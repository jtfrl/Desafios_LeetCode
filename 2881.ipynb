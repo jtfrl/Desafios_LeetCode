{
 "cells": [
  {
   "cell_type": "code",
   "execution_count": null,
   "metadata": {
    "vscode": {
     "languageId": "plaintext"
    }
   },
   "outputs": [],
   "source": [
    "import pandas as pd\n",
    "\n",
    "def createBonusColumn(employees: pd.DataFrame) -> pd.DataFrame: \n",
    "  var=employees.shape[0] #armazena dados de número de linhas; var é uma tupla\n",
    "  #necessario ter mais uma coluna para que cada valor de doubleVlr seja armazenado\n",
    "  employees['bonus']=0\n",
    "  for i in range(var):\n",
    "    valor=employees.iloc[i, employees.columns.get_loc('salary')]\n",
    "    doubleVlr=2*valor\n",
    "    employees.loc[i, 'bonus']=doubleVlr \n",
    "  return employees"
   ]
  }
 ],
 "metadata": {
  "language_info": {
   "name": "python"
  }
 },
 "nbformat": 4,
 "nbformat_minor": 2
}
